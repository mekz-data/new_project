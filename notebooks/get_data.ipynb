{
 "cells": [
  {
   "cell_type": "code",
   "execution_count": null,
   "metadata": {},
   "outputs": [],
   "source": [
    "import base64\n",
    "import requests"
   ]
  },
  {
   "cell_type": "code",
   "execution_count": null,
   "metadata": {},
   "outputs": [],
   "source": [
    "#delete these before pushing\n",
    "\n",
    "client_id = \n",
    "client_secret = "
   ]
  },
  {
   "cell_type": "code",
   "execution_count": null,
   "metadata": {},
   "outputs": [],
   "source": [
    "# Encode the client ID and client secret in Base64\n",
    "credentials = f\"{client_id}:{client_secret}\"\n",
    "encoded_credentials = base64.b64encode(credentials.encode('utf-8')).decode('utf-8')\n",
    "\n",
    "# Define the token URL\n",
    "token_url = 'https://auth.pingone.com/4c2b23f9-52b1-4f8f-aa1f-1d477590770c/as/token'\n",
    "\n",
    "# Set up the headers and data for the POST request\n",
    "headers = {\n",
    "  'Authorization': f'Basic {encoded_credentials}',\n",
    "  'Content-type': 'application/x-www-form-urlencoded'\n",
    "}\n",
    "\n",
    "data = {\n",
    "  'grant_type': 'client_credentials'\n",
    "}\n",
    "\n",
    "# Make the POST request to get the access token\n",
    "response = requests.post(token_url, headers=headers, data=data)\n",
    "\n",
    "# Check if the request was successful\n",
    "if response.status_code == 200:\n",
    "  # Parse the JSON response to get the access token\n",
    "  access_token = response.json().get('access_token')\n",
    "  print(f\"Access Token: {access_token}\")\n",
    "else:\n",
    "  print(f\"Failed to obtain access token. Status code: {response.status_code}\")\n",
    "  print(f\"Response: {response.text}\")"
   ]
  },
  {
   "cell_type": "markdown",
   "metadata": {},
   "source": [
    "This token expires within 1 hour. "
   ]
  },
  {
   "cell_type": "code",
   "execution_count": null,
   "metadata": {},
   "outputs": [],
   "source": [
    "# Define the URL for the API request\n",
    "url = 'https://api.fanniemae.com/api/v1/SingleFamilyLphExchangeAPI/data/years/2020'\n",
    "\n",
    "# Set up the headers for the GET request\n",
    "headers = {\n",
    "  'Content-Type': 'application/json',\n",
    "  'x-public-access-token': access_token\n",
    "}\n",
    "\n",
    "# Make the GET request\n",
    "response = requests.get(url, headers=headers)\n",
    "\n",
    "# Check if the request was successful\n",
    "if response.status_code == 200:\n",
    "  # Parse the JSON response\n",
    "  data = response.json()\n",
    "else:\n",
    "  print(f\"Failed to retrieve data. Status code: {response.status_code}\")\n",
    "  print(f\"Response: {response.text}\")"
   ]
  }
 ],
 "metadata": {
  "kernelspec": {
   "display_name": "base",
   "language": "python",
   "name": "python3"
  },
  "language_info": {
   "codemirror_mode": {
    "name": "ipython",
    "version": 3
   },
   "file_extension": ".py",
   "mimetype": "text/x-python",
   "name": "python",
   "nbconvert_exporter": "python",
   "pygments_lexer": "ipython3",
   "version": "3.12.2"
  }
 },
 "nbformat": 4,
 "nbformat_minor": 2
}
